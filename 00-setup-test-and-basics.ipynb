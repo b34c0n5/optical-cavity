{
 "cells": [
  {
   "cell_type": "markdown",
   "id": "d23501f9-0203-49fd-91fb-94693e4729bb",
   "metadata": {},
   "source": [
    "# Test scripts"
   ]
  },
  {
   "cell_type": "code",
   "execution_count": null,
   "id": "9c39bbc7-a84e-48d0-8291-5ba63bbdad24",
   "metadata": {},
   "outputs": [],
   "source": [
    "import sys\n",
    "\n",
    "print(sys.version)"
   ]
  },
  {
   "cell_type": "code",
   "execution_count": 1,
   "id": "1cfb73de-b16f-4b17-b66b-dd46fa56d43c",
   "metadata": {
    "tags": []
   },
   "outputs": [
    {
     "name": "stdout",
     "output_type": "stream",
     "text": [
      "                                              ..-\n",
      "    PyKat 1.2.81          _                  '(\n",
      "                          \\`.|\\.__...-\"\"\"\"-_.\" )\n",
      "       ..+-----.._        /  ' `            .-'\n",
      "   . '            `:      7/* _/._\\    \\   (\n",
      "  (        '::;;+;;:      `-\"' =\" /,`\"\" `) /\n",
      "  L.        \\`:::a:f            c_/     n_'\n",
      "  ..`--...___`.  .    ,\n",
      "   `^-....____:   +.      www.gwoptics.org/pykat\n",
      "\n",
      "--------------------------------------------------------------\n",
      "Running kat - Started at 2022-05-02 18:24:39.551699\n",
      "Used Finesse 2.3.1 at finesse_linux/kat\n",
      "\n",
      "Finished in 0.0553725 seconds\n"
     ]
    },
    {
     "name": "stderr",
     "output_type": "stream",
     "text": [
      "100% | ETA:  0:00:00 | Saving data                                                                                                                                                                                                         "
     ]
    },
    {
     "data": {
      "image/png": "[encoded data removed]",
      "text/plain": [
       "<Figure size 432x288 with 1 Axes>"
      ]
     },
     "metadata": {
      "needs_background": "light"
     },
     "output_type": "display_data"
    }
   ],
   "source": [
    "from pykat import finesse\n",
    "from pykat.commands import *\n",
    "\n",
    "kat = finesse.kat()\n",
    "code = \"\"\"\n",
    "l laser 1 0 n1\n",
    "s space 1 n1 n2\n",
    "pd pout n2\n",
    "xaxis laser P lin 1 10 100\n",
    "\"\"\"\n",
    "kat.parse(code)\n",
    "out = kat.run()\n",
    "out.plot()"
   ]
  },
  {
   "cell_type": "markdown",
   "id": "6da8659f-3dd7-4ce0-af71-f767f3dec7b9",
   "metadata": {
    "tags": []
   },
   "source": [
    "# Explained Power Sweep Example\n",
    "\n",
    "![](images/cavity-powersweep.png)"
   ]
  },
  {
   "cell_type": "markdown",
   "id": "88a13856-32e4-4c91-b12c-78249df5f724",
   "metadata": {
    "tags": []
   },
   "source": [
    "## Finesse2 basics\n",
    "\n",
    "* Finesse uses **nodes** to connect components\n",
    "* `xaxis` is used to modulate (and plot) any value\n",
    "    * in this case we change the power output of the `laser` component"
   ]
  },
  {
   "cell_type": "code",
   "execution_count": 2,
   "id": "92420454-9db6-49b1-8aa6-4d406ff42211",
   "metadata": {
    "tags": []
   },
   "outputs": [
    {
     "name": "stdout",
     "output_type": "stream",
     "text": [
      "--------------------------------------------------------------\n",
      "Running kat - Started at 2022-05-02 18:50:15.359275\n",
      "Used Finesse 2.3.1 at finesse_linux/kat\n",
      "\n",
      "Finished in 0.0136375 seconds\n"
     ]
    },
    {
     "name": "stderr",
     "output_type": "stream",
     "text": [
      " 91% | ETA:  0:00:00 | Calculating                                                                                                                                                                                                         "
     ]
    },
    {
     "data": {
      "image/png": "[encoded data removed]",
      "text/plain": [
       "<Figure size 432x288 with 1 Axes>"
      ]
     },
     "metadata": {
      "needs_background": "light"
     },
     "output_type": "display_data"
    }
   ],
   "source": [
    "from pykat import finesse\n",
    "from pykat.commands import *\n",
    "\n",
    "kat = finesse.kat()\n",
    "code = \"\"\"\n",
    "l laser 1 0 node0\n",
    "s space 1 node0 node1\n",
    "m mirror 0.5 0.5 0 node1 node2\n",
    "pd photodiode node2\n",
    "\n",
    "xaxis laser P lin 0 10 10\n",
    "\"\"\"\n",
    "kat.parse(code)\n",
    "out = kat.run()\n",
    "out.plot()"
   ]
  },
  {
   "cell_type": "markdown",
   "id": "c59ea36a-c0f1-4518-adff-252099bff867",
   "metadata": {
    "tags": []
   },
   "source": [
    "## code deep dive\n",
    "\n",
    "* `l laser 1 0 node0`\n",
    "    * `l` laser\n",
    "    * `laser` name of component\n",
    "    * `1` P (power in Watts)\n",
    "    * `0` frequency offset\n",
    "    * no phase (optional)\n",
    "    * `node0` connected node\n",
    "* `s space 1 node0 node1`\n",
    "    * `s` free space\n",
    "    * `space` component name\n",
    "    * `1` length (in meters)\n",
    "    * optional index of refraction (default 1)\n",
    "    * `node0` `node1` connected nodes\n",
    "* `m mirror 0.5 0.5 0 node1 node2`\n",
    "    * `m` mirror\n",
    "    * `mirror` component name\n",
    "    * `0.5` R (reflectivity)\n",
    "    * `0.5` T (power transmission)\n",
    "    * `0` phi (tuning in degrees)\n",
    "    * `node1 node2` connected nodes\n",
    "* `pd photodiode node2`\n",
    "    * `pd` photo-diode\n",
    "    * `photodiode` component name\n",
    "    * `n2` connected node\n",
    "* `xaxis l1 P lin 0 10 10`\n",
    "    * x-axis definition (parameter to tune)\n",
    "    * `l1` component to tune\n",
    "    * `P` parameter of component to tune\n",
    "    * `lin` linear\n",
    "    * `0` from (Watts)\n",
    "    * `10` to (Watts)\n",
    "    * steps"
   ]
  }
 ],
 "metadata": {
  "kernelspec": {
   "display_name": "Python 3 (ipykernel)",
   "language": "python",
   "name": "python3"
  },
  "language_info": {
   "codemirror_mode": {
    "name": "ipython",
    "version": 3
   },
   "file_extension": ".py",
   "mimetype": "text/x-python",
   "name": "python",
   "nbconvert_exporter": "python",
   "pygments_lexer": "ipython3",
   "version": "3.10.4"
  },
  "toc-autonumbering": false
 },
 "nbformat": 4,
 "nbformat_minor": 5
}
