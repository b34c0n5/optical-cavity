{
 "cells": [
  {
   "cell_type": "code",
   "execution_count": null,
   "id": "9c39bbc7-a84e-48d0-8291-5ba63bbdad24",
   "metadata": {},
   "outputs": [],
   "source": [
    "import sys\n",
    "print(sys.version)"
   ]
  },
  {
   "cell_type": "code",
   "execution_count": null,
   "id": "1cfb73de-b16f-4b17-b66b-dd46fa56d43c",
   "metadata": {
    "tags": []
   },
   "outputs": [],
   "source": [
    "from pykat import finesse\n",
    "from pykat.commands import *\n",
    "\n",
    "kat = finesse.kat()\n",
    "code = \"\"\"\n",
    "l laser 1 0 n1\n",
    "s space 1 n1 n2\n",
    "pd pout n2\n",
    "xaxis laser P lin 1 10 100\n",
    "\"\"\"\n",
    "kat.parse(code)\n",
    "out = kat.run()\n",
    "out.plot()"
   ]
  },
  {
   "cell_type": "code",
   "execution_count": null,
   "id": "92420454-9db6-49b1-8aa6-4d406ff42211",
   "metadata": {
    "tags": []
   },
   "outputs": [],
   "source": [
    "from pykat import finesse\n",
    "from pykat.commands import *\n",
    "\n",
    "kat = finesse.kat()\n",
    "code = \"\"\"\n",
    "l l1 1 0 n0\n",
    "s s1 1 n0 n1\n",
    "m m1 0.5 0.5 0 n1 n2\n",
    "pd pd1 n2\n",
    "\n",
    "xaxis l1 P lin 0 10 10\n",
    "\"\"\"\n",
    "\n",
    "kat.parse(code)\n",
    "out = kat.run()\n",
    "out.plot()"
   ]
  }
 ],
 "metadata": {
  "kernelspec": {
   "display_name": "Python 3 (ipykernel)",
   "language": "python",
   "name": "python3"
  },
  "language_info": {
   "codemirror_mode": {
    "name": "ipython",
    "version": 3
   },
   "file_extension": ".py",
   "mimetype": "text/x-python",
   "name": "python",
   "nbconvert_exporter": "python",
   "pygments_lexer": "ipython3",
   "version": "3.9.10"
  }
 },
 "nbformat": 4,
 "nbformat_minor": 5
}
