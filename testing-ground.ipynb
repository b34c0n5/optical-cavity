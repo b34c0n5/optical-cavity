{
 "cells": [
  {
   "cell_type": "markdown",
   "id": "22b35735-0964-4e85-b0a8-0721338b0b44",
   "metadata": {},
   "source": [
    "# testing ground"
   ]
  },
  {
   "cell_type": "code",
   "execution_count": null,
   "id": "17f00b78-3a47-495c-b35e-e788ff274397",
   "metadata": {
    "tags": []
   },
   "outputs": [],
   "source": [
    "%matplotlib widget\n",
    "\n",
    "from pykat import finesse\n",
    "from pykat import finesse\n",
    "from pykat.commands import *\n",
    "\n",
    "kat = finesse.kat()\n",
    "code = \"\"\"\n",
    "l laser 1.2M 0 node0\n",
    "s prespace 0.1 node0 node1\n",
    "m fixedmirror 0.997 0.003 0 node1 node2\n",
    "s cavityspace 0.2 node2 node3\n",
    "m piezomirror .997 .003 0 node3 node4\n",
    "pd photodiode node4\n",
    "\n",
    "xaxis piezomirror phi lin -90 270 1_000\n",
    "\"\"\"\n",
    "\n",
    "kat.parse(code)\n",
    "out = kat.run()\n",
    "fig = out.plot(return_fig=True)\n",
    "fig.set_figheight(5)\n",
    "fig.set_figwidth(7.5)\n",
    "print(kat.laser.P)"
   ]
  }
 ],
 "metadata": {
  "kernelspec": {
   "display_name": "Python 3 (ipykernel)",
   "language": "python",
   "name": "python3"
  },
  "language_info": {
   "codemirror_mode": {
    "name": "ipython",
    "version": 3
   },
   "file_extension": ".py",
   "mimetype": "text/x-python",
   "name": "python",
   "nbconvert_exporter": "python",
   "pygments_lexer": "ipython3",
   "version": "3.10.4"
  }
 },
 "nbformat": 4,
 "nbformat_minor": 5
}
