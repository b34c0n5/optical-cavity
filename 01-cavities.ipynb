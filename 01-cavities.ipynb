{
 "cells": [
  {
   "cell_type": "markdown",
   "id": "69b33cbc-ced0-44f1-bb64-059a8e54d914",
   "metadata": {
    "tags": []
   },
   "source": [
    "# Plane Wave\n",
    "\n",
    "## Simulation of Physical Cavity Setup\n",
    "\n",
    "![](images/cavity.png)\n",
    "\n",
    "* the length of the `cavityspace` is dependent on the focal length of the mirrors\n",
    "    * in our case the focal length is 10cm so the `cavityspace` will be 20cm\n",
    "* whether the cavity is in resonance depends on the the exact distance between the two mirrors\n",
    "    * if it's a multiple of the `laser`'s frequency the cavity will be in resonance\n",
    "    * in Finesse2 this is represented by the **tuning** (phi) of a mirror\n",
    "\n",
    "---\n",
    "\n",
    "Small distance adjustments (nanometers) should be accomplished via changing the tuning of a component, large adjustments via the length parameter of a space.\n",
    "**Small adjustments will NOT work via the length parameter!**"
   ]
  },
  {
   "cell_type": "markdown",
   "id": "3c6f494a-8ac2-4b64-9fb5-24b652562a2d",
   "metadata": {
    "tags": []
   },
   "source": [
    "### High Reflectivity, phi sweep\n",
    "\n",
    "* `piezomirror` R of 99,7%\n",
    "* `lambda` for phi is set in [kat.ini](kat.ini) (in our case: `lambda 6.33E-7`, 633 nanometers)\n",
    "* `piezomirror`: a positive phi moves the mirror `node4` closer to `node3`"
   ]
  },
  {
   "cell_type": "code",
   "execution_count": null,
   "id": "d4ffc61d-f9ee-4f80-b7d0-fe7d0d5cf231",
   "metadata": {
    "tags": []
   },
   "outputs": [],
   "source": [
    "%matplotlib widget\n",
    "\n",
    "from pykat import finesse\n",
    "from pykat.commands import *\n",
    "\n",
    "kat = finesse.kat()\n",
    "\n",
    "reflectivity = 0.997\n",
    "code = f\"\"\"\n",
    "l laser 1.2M 0 node0\n",
    "s prespace 0.1 node0 node1\n",
    "m fixedmirror 0.997 0.003 0 node1 node2\n",
    "s cavityspace 0.2 node2 node3\n",
    "m piezomirror {reflectivity} {1-reflectivity} 0 node3 node4\n",
    "pd photodiode node4\n",
    "\n",
    "xaxis piezomirror phi lin 0 360 10_000\n",
    "\"\"\"\n",
    "\n",
    "kat.parse(code)\n",
    "out = kat.run()\n",
    "fig = out.plot(return_fig=True)\n",
    "fig.set_figheight(5)\n",
    "fig.set_figwidth(11)"
   ]
  },
  {
   "cell_type": "markdown",
   "id": "6f9ced35-66e4-45ae-80d1-04a3d1fd27f4",
   "metadata": {
    "tags": []
   },
   "source": [
    "### High Reflectivity with modeled mirrors, phi sweep\n",
    "\n",
    "* `piezomirror` R of with modeled mirrors 99,7%\n",
    "* `lambda` for phi is set in [kat.ini](kat.ini) (in our case: `lambda 6.33E-7`, 633 nanometers)\n",
    "* `piezomirror`: a positive phi moves the mirror `node4` closer to `node3`\n",
    "\n",
    "* links:\n",
    "    * doku Finesse 2: http://www.gwoptics.org/finesse/download/manual.pdf\n",
    "    * mirror: https://finesse.docs.ligo.org/finesse3/usage/elements/optics/mirror.html?highlight=mirror#kat-element-mirror\n",
    "        * 632,816 nm wavelength He-Ne-laser\n",
    "        * transmission\n",
    "        * inner reflectivity: 0,997\n",
    "        * focal length: 10cm => radius: 20cm \n",
    "    * space:\n",
    "        * Refractive Index (adjust!) NBK-7: https://refractiveindex.info/?shelf=glass&book=BK7&page=SCHOTT\n",
    "        * ==> substrate of our mirror: 1.5151 refractive index"
   ]
  },
  {
   "cell_type": "code",
   "execution_count": null,
   "id": "cd72fc32-0de5-4d24-9f77-fa292c38f0b4",
   "metadata": {
    "tags": []
   },
   "outputs": [],
   "source": [
    "%matplotlib widget\n",
    "\n",
    "from pykat import finesse\n",
    "from pykat.commands import *\n",
    "\n",
    "kat = finesse.kat()\n",
    "\n",
    "reflectivity = 0.997\n",
    "transmittance = 0.5\n",
    "\n",
    "# FINESSE 2 !!!\n",
    "# MIRROR:  m name Reflectivity Transmittance Tuning NODES\n",
    "# SPACE: s name portA=none portB=none LENGTH=0.0 REFRACTIV_INDEX=1.0 user_gouy_x=none user_gouy_y=none\n",
    "\n",
    "code = f\"\"\"\n",
    "l laser 1.2M 0 node0\n",
    "pd pre_cavity1 node0\n",
    "\n",
    "s prespace 0.1 node0 node1\n",
    "pd pre_cavity2 node1\n",
    "\n",
    "m fixedOuter 0.003 0.997 0 node1 node2\n",
    "s fixedSpace 0.006 1.5151 node2 node3\n",
    "m fixedInner 0.997 0.003 0 node3 node4\n",
    "attr fixedInner Rc 0.2\n",
    "\n",
    "s cavityspace 0.2 node4 node5\n",
    "pd pre_piezo node5\n",
    "\n",
    "m piezoInner 0.997 0.003 0 node5 node6\n",
    "attr piezoInner Rc 0.2\n",
    "s piezoSpace 0.006 1.5151 node6 node7\n",
    "m piezoOuter 0.003 0.997 0 node7 node8\n",
    "\n",
    "pd post_cavity node8\n",
    "xaxis piezoInner phi lin 0 360 10_000\n",
    "\"\"\"\n",
    "\n",
    "kat.parse(code)\n",
    "out = kat.run()\n",
    "fig = out.plot(return_fig=True)\n",
    "fig.set_figheight(5)\n",
    "fig.set_figwidth(11)"
   ]
  },
  {
   "cell_type": "markdown",
   "id": "1d5f4a74-f7ed-4842-a602-b8783ff53d4e",
   "metadata": {
    "tags": []
   },
   "source": [
    "### Low Reflectivity, phi sweep\n",
    "\n",
    "\n",
    "* `piezomirror` R of 90%\n",
    "* a lower reflectivity reduces the power output of the cavity"
   ]
  },
  {
   "cell_type": "code",
   "execution_count": null,
   "id": "f382372e-84ef-4fc6-82f8-6c6c26690f80",
   "metadata": {
    "tags": []
   },
   "outputs": [],
   "source": [
    "%matplotlib widget\n",
    "\n",
    "from pykat import finesse\n",
    "from pykat.commands import *\n",
    "import matplotlib.pyplot as plt\n",
    "\n",
    "kat = finesse.kat()\n",
    "reflectivity = 0.9\n",
    "\n",
    "code = f\"\"\"\n",
    "l laser 1.2M 0 node0\n",
    "s prespace 0.1 node0 node1\n",
    "m fixedmirror 0.997 0.003 0 node1 node2\n",
    "s cavityspace 0.2 node2 node3\n",
    "m piezomirror {reflectivity} {1-reflectivity} 0 node3 node4\n",
    "pd photodiode node4\n",
    "\n",
    "xaxis piezomirror phi lin 0 360 10_000\n",
    "\"\"\"\n",
    "\n",
    "kat.parse(code)\n",
    "out = kat.run()\n",
    "fig = out.plot(return_fig=True)\n",
    "fig.set_figheight(5)\n",
    "fig.set_figwidth(11)"
   ]
  },
  {
   "cell_type": "code",
   "execution_count": null,
   "id": "26fdd057-e00a-4a2c-9db5-912e63ac6f33",
   "metadata": {
    "tags": []
   },
   "outputs": [],
   "source": [
    "from IPython.display import display\n",
    "import ipywidgets as widgets\n",
    "\n",
    "switch = True\n",
    "\n",
    "button = widgets.Button(description=\"toggle scaling\")\n",
    "output = widgets.Output()\n",
    "\n",
    "display(button, output)\n",
    "\n",
    "\n",
    "def on_button_clicked(b):\n",
    "    global switch\n",
    "    if switch:\n",
    "        plt.ylim(top=1259999.864594087)\n",
    "    else:\n",
    "        plt.ylim(top=135888.67754189012)\n",
    "    switch = not switch\n",
    "\n",
    "\n",
    "button.on_click(on_button_clicked)"
   ]
  },
  {
   "cell_type": "markdown",
   "id": "4a543eac-9b6d-4c1e-89ae-19d7a703c56d",
   "metadata": {
    "tags": []
   },
   "source": [
    "### Reflectivity with phi==0, R sweep\n",
    "\n",
    "When **phi** is zero degress the cavity is in perfect resonance.\n",
    "\n",
    "* phi is fixed to zero\n",
    "* the reflectivity of `piezomirror` is swept from 90% to 100%\n",
    "* 1.000 steps\n",
    "* higher reflectivity leads to exponentially more cavity power output"
   ]
  },
  {
   "cell_type": "code",
   "execution_count": null,
   "id": "23782a91-f623-43dd-a45a-2124731b4e8b",
   "metadata": {
    "tags": []
   },
   "outputs": [],
   "source": [
    "%matplotlib widget\n",
    "\n",
    "from pykat import finesse\n",
    "from pykat.commands import *\n",
    "\n",
    "kat = finesse.kat()\n",
    "code = \"\"\"\n",
    "l laser 1.2M 0 node0\n",
    "s prespace 0.1 node0 node1\n",
    "m fixedmirror 0.997 0.003 0 node1 node2\n",
    "s cavityspace 0.2 node2 node3\n",
    "m piezomirror .997 .003 0 node3 node4\n",
    "pd photodiode node4\n",
    "\n",
    "xaxis piezomirror R lin .9 1 1_000\n",
    "\"\"\"\n",
    "\n",
    "kat.parse(code)\n",
    "out = kat.run()\n",
    "fig = out.plot(return_fig=True)\n",
    "fig.set_figheight(5)\n",
    "fig.set_figwidth(11)\n",
    "print(kat.laser.P)"
   ]
  },
  {
   "cell_type": "markdown",
   "id": "d3b9bb37-1e8c-4d80-b268-29f57b850028",
   "metadata": {
    "tags": []
   },
   "source": [
    "### Laser power at phi==0, P sweep\n",
    "\n",
    "* phi is fixed to zero\n",
    "* the power output of `laser` is swept from 0 to 3 Megawatts\n",
    "* higher power input leads to a linear increase of cavity power output\n",
    "* 1.000 steps"
   ]
  },
  {
   "cell_type": "code",
   "execution_count": null,
   "id": "fb43a662-febe-41c3-9dc3-804b433c8743",
   "metadata": {
    "tags": []
   },
   "outputs": [],
   "source": [
    "%matplotlib widget\n",
    "\n",
    "from pykat import finesse\n",
    "from pykat import finesse\n",
    "from pykat.commands import *\n",
    "\n",
    "kat = finesse.kat()\n",
    "code = \"\"\"\n",
    "l laser 1.2M 0 node0\n",
    "s prespace 0.1 node0 node1\n",
    "m fixedmirror 0.997 0.003 0 node1 node2\n",
    "s cavityspace 0.2 node2 node3\n",
    "m piezomirror .997 .003 0 node3 node4\n",
    "pd photodiode node4\n",
    "\n",
    "xaxis laser P lin 0 3M 1_000\n",
    "\"\"\"\n",
    "\n",
    "kat.parse(code)\n",
    "out = kat.run()\n",
    "fig = out.plot(return_fig=True)\n",
    "# fig.set_figheight(5)\n",
    "# fig.set_figwidth(11)\n",
    "print(kat.laser.P)"
   ]
  },
  {
   "cell_type": "markdown",
   "id": "8d07ab3b-f8c0-4955-8a42-c89aa6c241a6",
   "metadata": {},
   "source": [
    "### labeling"
   ]
  },
  {
   "cell_type": "code",
   "execution_count": null,
   "id": "c14b1b41-f335-45dc-bd63-4a00ffe623f8",
   "metadata": {
    "tags": []
   },
   "outputs": [],
   "source": [
    "%matplotlib widget\n",
    "\n",
    "from pykat import finesse\n",
    "from pykat import finesse\n",
    "from pykat.commands import *\n",
    "\n",
    "kat = finesse.kat()\n",
    "code = \"\"\"\n",
    "l laser 1 0 node0\n",
    "s prespace 0.1 node0 node1\n",
    "m fixedmirror 0.997 0.003 0 node1 node2\n",
    "s cavityspace 0.2 node2 node3\n",
    "m piezomirror 0.997 .003 0 node3 node4\n",
    "\n",
    "pd refl node1          # Reflected field\n",
    "pd circ node3          # Circulating field\n",
    "pd tran node4          # Transmitted field\n",
    "\n",
    "xaxis piezomirror phi lin -20 200 300\n",
    "\"\"\"\n",
    "\n",
    "kat.parse(code)\n",
    "out = kat.run()\n",
    "fig = out.plot(\n",
    "    return_fig=True,\n",
    "    title=\"Power vs. cavity length\",\n",
    "    xlabel=\"position of mirror [deg], phi\",\n",
    "    ylabel=\"Power output [W], P\",\n",
    ")\n",
    "print(kat.laser.P)"
   ]
  },
  {
   "cell_type": "markdown",
   "id": "75a095dc-ce77-42e3-9509-ba3c9765a06c",
   "metadata": {},
   "source": [
    "# Gaussian Finesse Model"
   ]
  },
  {
   "cell_type": "code",
   "execution_count": null,
   "id": "a65c1fe0-96a9-41d0-8446-71a7750dac33",
   "metadata": {
    "tags": []
   },
   "outputs": [],
   "source": [
    "%matplotlib widget\n",
    "\n",
    "from pykat import finesse\n",
    "from pykat.commands import *\n",
    "import numpy as np\n",
    "import matplotlib.pyplot as plt\n",
    "from IPython.display import display\n",
    "import ipywidgets as widgets\n",
    "from ipywidgets import interact\n",
    "\n",
    "pykat.init_pykat_plotting(dpi=90)\n",
    "phi = widgets.IntSlider(\n",
    "    min=0,\n",
    "    max=360,\n",
    "    value=10,\n",
    "    description=\"phi\",\n",
    "    step=1,\n",
    "    continuous_update=True,\n",
    "    orientation=\"horizontal\",\n",
    ")\n",
    "\n",
    "\n",
    "def f(change):\n",
    "    code = f\"\"\"\n",
    "    l laser 1 0 node0\n",
    "    s prespace 0.1 node0 node1\n",
    "    m fixedmirror 0.997 0.003 0 node1 node2\n",
    "    s cavityspace 0.2 node2 node3\n",
    "    m piezomirror 0.997 .003 {change.new} node3 node4\n",
    "\n",
    "    beam beamprofile node4\n",
    "\n",
    "    xaxis beamprofile x lin -4 4 30\n",
    "    x2axis beamprofile y lin -4 4 30\n",
    "    \"\"\"\n",
    "\n",
    "    print(code)\n",
    "\n",
    "\n",
    "phi.observe(f, names=\"value\")\n",
    "display(phi)\n",
    "\n",
    "kat = finesse.kat()\n",
    "\n",
    "kat.parse(code)\n",
    "out = kat.run()\n",
    "\n",
    "plt.figure(figsize=(6, 6))\n",
    "plt.grid(False)\n",
    "plt.pcolormesh(out.x, out.y, out[\"beamprofile\"], shading=\"auto\")\n",
    "print(out[\"beamprofile\"][15][15])\n",
    "print(phi.value)"
   ]
  },
  {
   "cell_type": "markdown",
   "id": "57f3d632-f1fe-43cf-a54b-95ed94a04d1b",
   "metadata": {},
   "source": [
    "# slider example, mpl_interactions"
   ]
  },
  {
   "cell_type": "code",
   "execution_count": null,
   "id": "d2f9501f-2bee-4513-979d-fde2bae5e404",
   "metadata": {},
   "outputs": [],
   "source": [
    "%matplotlib ipympl\n",
    "import mpl_interactions.ipyplot as iplt\n",
    "import matplotlib.pyplot as plt\n",
    "import numpy as np\n",
    "\n",
    "x = np.linspace(0, np.pi, 100)\n",
    "tau = np.linspace(0.5, 10, 100)\n",
    "\n",
    "\n",
    "def f1(x, tau, beta):\n",
    "    return np.sin(x * tau) * x * beta\n",
    "\n",
    "\n",
    "def f2(x, tau, beta):\n",
    "    return np.sin(x * beta) * x * tau\n",
    "\n",
    "\n",
    "fig, ax = plt.subplots()\n",
    "controls = iplt.plot(x, f1, tau=tau, beta=(1, 10, 100), label=\"f1\")\n",
    "iplt.plot(x, f2, controls=controls, label=\"f2\")\n",
    "_ = plt.legend()\n",
    "plt.show()"
   ]
  }
 ],
 "metadata": {
  "kernelspec": {
   "display_name": "Python 3 (ipykernel)",
   "language": "python",
   "name": "python3"
  },
  "language_info": {
   "codemirror_mode": {
    "name": "ipython",
    "version": 3
   },
   "file_extension": ".py",
   "mimetype": "text/x-python",
   "name": "python",
   "nbconvert_exporter": "python",
   "pygments_lexer": "ipython3",
   "version": "3.10.4"
  }
 },
 "nbformat": 4,
 "nbformat_minor": 5
}
