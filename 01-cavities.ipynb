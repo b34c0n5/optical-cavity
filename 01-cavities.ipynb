{
 "cells": [
  {
   "cell_type": "markdown",
   "id": "69b33cbc-ced0-44f1-bb64-059a8e54d914",
   "metadata": {
    "tags": []
   },
   "source": [
    "# Simulation of Physical Cavity Setup\n",
    "\n",
    "![](images/cavity.png)\n",
    "\n",
    "* the length of the `cavityspace` is dependent on the focal length of the mirrors\n",
    "    * in our case the focal length is 10cm so the `cavityspace` will be 20cm\n",
    "* whether the cavity is in resonance depends on the the exact distance between the two mirrors\n",
    "    * if it's a multiple of the `laser`'s frequency the cavity will be in resonance\n",
    "    * in Finesse2 this is represented by the **tuning** (phi) of a mirror\n",
    "\n",
    "---\n",
    "\n",
    "Small distance adjustments (nanometers) should be accomplished via changing the tuning of a component, large adjustments via the length parameter of a space.\n",
    "**Small adjustments will NOT work via the length parameter!**"
   ]
  },
  {
   "cell_type": "markdown",
   "id": "3c6f494a-8ac2-4b64-9fb5-24b652562a2d",
   "metadata": {
    "tags": []
   },
   "source": [
    "## High Reflectivity\n",
    "\n",
    "* `piezomirror` R of 99,7%\n",
    "* `lambda` for phi is set in [kat.ini](kat.ini) (in our case: `lambda 6.33E-7`, 633 nanometers)\n",
    "* `piezomirror`: a positive phi moves the mirror `node4` closer to `node3`"
   ]
  },
  {
   "cell_type": "code",
   "execution_count": null,
   "id": "d4ffc61d-f9ee-4f80-b7d0-fe7d0d5cf231",
   "metadata": {
    "tags": []
   },
   "outputs": [],
   "source": [
    "%matplotlib widget\n",
    "\n",
    "from pykat import finesse\n",
    "from pykat.commands import *\n",
    "\n",
    "kat = finesse.kat()\n",
    "\n",
    "reflectivity = 0.997\n",
    "code = f\"\"\"\n",
    "l laser 1.2M 0 node0\n",
    "s prespace 0.1 node0 node1\n",
    "m fixedmirror 0.997 0.003 0 node1 node2\n",
    "s cavityspace 0.2 node2 node3\n",
    "m piezomirror {reflectivity} {1-reflectivity} 0 node3 node4\n",
    "pd photodiode node4\n",
    "\n",
    "xaxis piezomirror phi lin 0 360 10_000\n",
    "\"\"\"\n",
    "\n",
    "kat.parse(code)\n",
    "out = kat.run()\n",
    "fig = out.plot(return_fig=True)\n",
    "fig.set_figheight(5)\n",
    "fig.set_figwidth(11)"
   ]
  },
  {
   "cell_type": "markdown",
   "id": "1d5f4a74-f7ed-4842-a602-b8783ff53d4e",
   "metadata": {
    "tags": []
   },
   "source": [
    "## Low Reflectivity\n",
    "\n",
    "\n",
    "* `piezomirror` R of 90%\n",
    "* a lower reflectivity reduces the power output of the cavity"
   ]
  },
  {
   "cell_type": "code",
   "execution_count": null,
   "id": "f382372e-84ef-4fc6-82f8-6c6c26690f80",
   "metadata": {
    "tags": []
   },
   "outputs": [],
   "source": [
    "%matplotlib widget\n",
    "\n",
    "from pykat import finesse\n",
    "from pykat.commands import *\n",
    "import matplotlib.pyplot as plt\n",
    "\n",
    "kat = finesse.kat()\n",
    "reflectivity = 0.9\n",
    "\n",
    "code = f\"\"\"\n",
    "l laser 1.2M 0 node0\n",
    "s prespace 0.1 node0 node1\n",
    "m fixedmirror 0.997 0.003 0 node1 node2\n",
    "s cavityspace 0.2 node2 node3\n",
    "m piezomirror {reflectivity} {1-reflectivity} 0 node3 node4\n",
    "pd photodiode node4\n",
    "\n",
    "xaxis piezomirror phi lin 0 360 10_000\n",
    "\"\"\"\n",
    "\n",
    "kat.parse(code)\n",
    "out = kat.run()\n",
    "fig = out.plot(return_fig=True)\n",
    "fig.set_figheight(5)\n",
    "fig.set_figwidth(11)"
   ]
  },
  {
   "cell_type": "code",
   "execution_count": null,
   "id": "26fdd057-e00a-4a2c-9db5-912e63ac6f33",
   "metadata": {
    "tags": []
   },
   "outputs": [],
   "source": [
    "from IPython.display import display\n",
    "import ipywidgets as widgets\n",
    "\n",
    "switch = True\n",
    "\n",
    "button = widgets.Button(description=\"toggle scaling\")\n",
    "output = widgets.Output()\n",
    "\n",
    "display(button, output)\n",
    "\n",
    "\n",
    "def on_button_clicked(b):\n",
    "    global switch\n",
    "    if switch:\n",
    "        plt.ylim(top=1259999.864594087)\n",
    "    else:\n",
    "        plt.ylim(top=135888.67754189012)\n",
    "    switch = not switch\n",
    "\n",
    "\n",
    "button.on_click(on_button_clicked)"
   ]
  },
  {
   "cell_type": "markdown",
   "id": "4a543eac-9b6d-4c1e-89ae-19d7a703c56d",
   "metadata": {
    "tags": []
   },
   "source": [
    "## Reflectivity with phi == 0\n",
    "\n",
    "When **phi** is zero degress the cavity is in perfect resonance.\n",
    "\n",
    "* phi is fixed to zero\n",
    "* the reflectivity of `piezomirror` is swept from 90% to 100%\n",
    "* 1.000 steps\n",
    "* higher reflectivity leads to exponentially more cavity power output"
   ]
  },
  {
   "cell_type": "code",
   "execution_count": null,
   "id": "23782a91-f623-43dd-a45a-2124731b4e8b",
   "metadata": {
    "tags": []
   },
   "outputs": [],
   "source": [
    "%matplotlib widget\n",
    "\n",
    "from pykat import finesse\n",
    "from pykat.commands import *\n",
    "\n",
    "kat = finesse.kat()\n",
    "code = \"\"\"\n",
    "l laser 1.2M 0 node0\n",
    "s prespace 0.1 node0 node1\n",
    "m fixedmirror 0.997 0.003 0 node1 node2\n",
    "s cavityspace 0.2 node2 node3\n",
    "m piezomirror .997 .003 0 node3 node4\n",
    "pd photodiode node4\n",
    "\n",
    "xaxis piezomirror R lin .9 1 1_000\n",
    "\"\"\"\n",
    "\n",
    "kat.parse(code)\n",
    "out = kat.run()\n",
    "fig = out.plot(return_fig=True)\n",
    "fig.set_figheight(5)\n",
    "fig.set_figwidth(11)\n",
    "print(kat.laser.P)"
   ]
  },
  {
   "cell_type": "markdown",
   "id": "d3b9bb37-1e8c-4d80-b268-29f57b850028",
   "metadata": {
    "tags": []
   },
   "source": [
    "## Laser power at phi==0\n",
    "\n",
    "* phi is fixed to zero\n",
    "* the power output of `laser` is swept from 0 to 3 Megawatts\n",
    "* higher power input leads to a linear increase of cavity power output\n",
    "* 1.000 steps"
   ]
  },
  {
   "cell_type": "code",
   "execution_count": null,
   "id": "fb43a662-febe-41c3-9dc3-804b433c8743",
   "metadata": {
    "tags": []
   },
   "outputs": [],
   "source": [
    "%matplotlib widget\n",
    "\n",
    "from pykat import finesse\n",
    "from pykat import finesse\n",
    "from pykat.commands import *\n",
    "\n",
    "kat = finesse.kat()\n",
    "code = \"\"\"\n",
    "l laser 1.2M 0 node0\n",
    "s prespace 0.1 node0 node1\n",
    "m fixedmirror 0.997 0.003 0 node1 node2\n",
    "s cavityspace 0.2 node2 node3\n",
    "m piezomirror .997 .003 0 node3 node4\n",
    "pd photodiode node4\n",
    "\n",
    "xaxis laser P lin 0 3M 1_000\n",
    "\"\"\"\n",
    "\n",
    "kat.parse(code)\n",
    "out = kat.run()\n",
    "fig = out.plot(return_fig=True)\n",
    "fig.set_figheight(5)\n",
    "fig.set_figwidth(11)\n",
    "print(kat.laser.P)"
   ]
  }
 ],
 "metadata": {
  "kernelspec": {
   "display_name": "Python 3 (ipykernel)",
   "language": "python",
   "name": "python3"
  },
  "language_info": {
   "codemirror_mode": {
    "name": "ipython",
    "version": 3
   },
   "file_extension": ".py",
   "mimetype": "text/x-python",
   "name": "python",
   "nbconvert_exporter": "python",
   "pygments_lexer": "ipython3",
   "version": "3.10.4"
  }
 },
 "nbformat": 4,
 "nbformat_minor": 5
}
