{
 "cells": [
  {
   "cell_type": "markdown",
   "id": "d23501f9-0203-49fd-91fb-94693e4729bb",
   "metadata": {},
   "source": [
    "# Test scripts"
   ]
  },
  {
   "cell_type": "code",
   "execution_count": null,
   "id": "9c39bbc7-a84e-48d0-8291-5ba63bbdad24",
   "metadata": {},
   "outputs": [],
   "source": [
    "import sys\n",
    "\n",
    "print(sys.version)"
   ]
  },
  {
   "cell_type": "code",
   "execution_count": null,
   "id": "1cfb73de-b16f-4b17-b66b-dd46fa56d43c",
   "metadata": {
    "tags": []
   },
   "outputs": [],
   "source": [
    "from pykat import finesse\n",
    "from pykat.commands import *\n",
    "\n",
    "kat = finesse.kat()\n",
    "code = \"\"\"\n",
    "l laser 1 0 n1\n",
    "s space 1 n1 n2\n",
    "pd pout n2\n",
    "xaxis laser P lin 1 10 100\n",
    "\"\"\"\n",
    "kat.parse(code)\n",
    "out = kat.run()\n",
    "out.plot()"
   ]
  },
  {
   "cell_type": "markdown",
   "id": "6da8659f-3dd7-4ce0-af71-f767f3dec7b9",
   "metadata": {
    "tags": []
   },
   "source": [
    "# Explained Power Sweep Example\n",
    "\n",
    "![](cavity-powersweep.png)"
   ]
  },
  {
   "cell_type": "markdown",
   "id": "88a13856-32e4-4c91-b12c-78249df5f724",
   "metadata": {
    "tags": []
   },
   "source": [
    "## Finesse2 basics\n",
    "\n",
    "* Finesse uses **nodes** to connect components\n",
    "* `xaxis` is used to modulate (and plot) any value\n",
    "    * in this case we change the power output of the `laser` component"
   ]
  },
  {
   "cell_type": "code",
   "execution_count": null,
   "id": "92420454-9db6-49b1-8aa6-4d406ff42211",
   "metadata": {
    "tags": []
   },
   "outputs": [],
   "source": [
    "from pykat import finesse\n",
    "from pykat.commands import *\n",
    "\n",
    "kat = finesse.kat()\n",
    "code = \"\"\"\n",
    "l laser 1 0 node0\n",
    "s space 1 node0 node1\n",
    "m mirror 0.5 0.5 0 node1 node2\n",
    "pd photodiode node2\n",
    "\n",
    "xaxis laser P lin 0 10 10\n",
    "\"\"\"\n",
    "\n",
    "kat.parse(code)\n",
    "out = kat.run()\n",
    "out.plot()"
   ]
  },
  {
   "cell_type": "markdown",
   "id": "c59ea36a-c0f1-4518-adff-252099bff867",
   "metadata": {
    "jp-MarkdownHeadingCollapsed": true,
    "tags": []
   },
   "source": [
    "## code deep dive\n",
    "\n",
    "* `l laser 1 0 node0`\n",
    "    * `l` laser\n",
    "    * `laser` name of component\n",
    "    * `1` P (power in Watts)\n",
    "    * `0` frequency offset\n",
    "    * no phase (optional)\n",
    "    * `node0` connected node\n",
    "* `s space 1 node0 node1`\n",
    "    * `s` free space\n",
    "    * `space` component name\n",
    "    * `1` length (in meters)\n",
    "    * optional index of refraction (default 1)\n",
    "    * `node0` `node1` connected nodes\n",
    "* `m mirror 0.5 0.5 0 node1 node2`\n",
    "    * `m` mirror\n",
    "    * `mirror` component name\n",
    "    * `0.5` R (reflectivity)\n",
    "    * `0.5` T (power transmission)\n",
    "    * `0` phi (tuning in degrees)\n",
    "    * `node1 node2` connected nodes\n",
    "* `pd photodiode node2`\n",
    "    * `pd` photo-diode\n",
    "    * `photodiode` component name\n",
    "    * `n2` connected node\n",
    "* `xaxis l1 P lin 0 10 10`\n",
    "    * x-axis definition (parameter to tune)\n",
    "    * `l1` component to tune\n",
    "    * `P` parameter of component to tune\n",
    "    * `lin` linear\n",
    "    * `0` from (Watts)\n",
    "    * `10` to (Watts)\n",
    "    * steps"
   ]
  },
  {
   "cell_type": "markdown",
   "id": "1849fa2c-124e-43e1-acac-a27a72b52751",
   "metadata": {
    "tags": []
   },
   "source": [
    "# Simulation of Physical Cavity Setup\n",
    "\n",
    "![](cavity.png)\n",
    "\n",
    "* the length of the `cavityspace` is dependent on the focal length of the mirrors\n",
    "    * in our case the focal length is 10cm so the `cavityspace` will be 20cm\n",
    "* whether the cavity is in resonance depends on the the exact distance between the two mirrors\n",
    "    * if it's a multiple of the `laser`'s frequency the cavity will be in resonance\n",
    "    * in Finesse2 this is represented by the **tuning** (phi) of a mirror\n",
    "\n",
    "---\n",
    "\n",
    "Small distance adjustments (nanometers) should be accomplished via changing the tuning of a component, large adjustments via the length parameter of a space.\n",
    "**Small adjustments will NOT work via the length parameter!**"
   ]
  },
  {
   "cell_type": "markdown",
   "id": "2d690080-d63c-404e-985b-24f66e29b755",
   "metadata": {
    "tags": []
   },
   "source": [
    "## High Reflectivity\n",
    "\n",
    "* `piezomirror` R of 99,7%\n",
    "* `lambda` for phi is set in [kat.ini](kat.ini) (in our case: `lambda 6.33E-7`, 633 nanometers)\n",
    "* `piezomirror`: a positive phi moves the mirror `node4` closer to `node3`"
   ]
  },
  {
   "cell_type": "code",
   "execution_count": null,
   "id": "6a1affaa-a422-4f2b-9e21-faeb787a64e9",
   "metadata": {
    "tags": []
   },
   "outputs": [],
   "source": [
    "%matplotlib widget\n",
    "\n",
    "from pykat import finesse\n",
    "from pykat.commands import *\n",
    "\n",
    "kat = finesse.kat()\n",
    "\n",
    "reflectivity = 0.997\n",
    "\n",
    "code = f\"\"\"\n",
    "l laser 1.2M 0 node0\n",
    "s prespace 0.1 node0 node1\n",
    "m fixedmirror 0.997 0.003 0 node1 node2\n",
    "s cavityspace 0.2 node2 node3\n",
    "m piezomirror {reflectivity} {1-reflectivity} 0 node3 node4\n",
    "pd photodiode node4\n",
    "\n",
    "xaxis piezomirror phi lin 0 360 10_000\n",
    "\"\"\"\n",
    "\n",
    "kat.parse(code)\n",
    "out = kat.run()\n",
    "fig = out.plot(return_fig=True)\n",
    "fig.set_figheight(5)\n",
    "fig.set_figwidth(11)"
   ]
  },
  {
   "cell_type": "markdown",
   "id": "5c6c6783-8a90-4775-8050-ca6aaf87e74a",
   "metadata": {
    "tags": []
   },
   "source": [
    "## Low Reflectivity\n",
    "\n",
    "\n",
    "* `piezomirror` R of 90%\n",
    "* a lower reflectivity reduces the power output of the cavity"
   ]
  },
  {
   "cell_type": "code",
   "execution_count": null,
   "id": "f53781b3-c960-4050-a139-5acc81954207",
   "metadata": {
    "tags": []
   },
   "outputs": [],
   "source": [
    "%matplotlib widget\n",
    "\n",
    "from pykat import finesse\n",
    "from pykat.commands import *\n",
    "import matplotlib.pyplot as plt\n",
    "\n",
    "kat = finesse.kat()\n",
    "reflectivity = 0.9\n",
    "\n",
    "code = f\"\"\"\n",
    "l laser 1.2M 0 node0\n",
    "s prespace 0.1 node0 node1\n",
    "m fixedmirror 0.997 0.003 0 node1 node2\n",
    "s cavityspace 0.2 node2 node3\n",
    "m piezomirror {reflectivity} {1-reflectivity} 0 node3 node4\n",
    "pd photodiode node4\n",
    "\n",
    "xaxis piezomirror phi lin 0 360 10_000\n",
    "\"\"\"\n",
    "\n",
    "kat.parse(code)\n",
    "out = kat.run()\n",
    "fig = out.plot(return_fig=True)\n",
    "fig.set_figheight(5)\n",
    "fig.set_figwidth(11)"
   ]
  },
  {
   "cell_type": "code",
   "execution_count": null,
   "id": "900813df-0cfd-4d51-a191-ff870d458c5a",
   "metadata": {
    "tags": []
   },
   "outputs": [],
   "source": [
    "from IPython.display import display\n",
    "import ipywidgets as widgets\n",
    "\n",
    "switch = True\n",
    "\n",
    "button = widgets.Button(description=\"toggle scaling\")\n",
    "output = widgets.Output()\n",
    "\n",
    "display(button, output)\n",
    "\n",
    "\n",
    "def on_button_clicked(b):\n",
    "    global switch\n",
    "    if switch:\n",
    "        plt.ylim(top=1259999.864594087)\n",
    "    else:\n",
    "        plt.ylim(top=135888.67754189012)\n",
    "    switch = not switch\n",
    "\n",
    "\n",
    "button.on_click(on_button_clicked)"
   ]
  },
  {
   "cell_type": "markdown",
   "id": "198d7907-e6b6-4bea-9dc1-f8cc5a0e57ba",
   "metadata": {
    "tags": []
   },
   "source": [
    "## Reflectivity with phi == 0\n",
    "\n",
    "When **phi** is zero degress the cavity is in perfect resonance.\n",
    "\n",
    "* phi is fixed to zero\n",
    "* the reflectivity of `piezomirror` is swept from 90% to 100%\n",
    "* 1.000 steps\n",
    "* higher reflectivity leads to exponentially more cavity power output"
   ]
  },
  {
   "cell_type": "code",
   "execution_count": null,
   "id": "d8464799-7dea-45e8-b005-8d4756c68e6c",
   "metadata": {
    "tags": []
   },
   "outputs": [],
   "source": [
    "%matplotlib widget\n",
    "\n",
    "from pykat import finesse\n",
    "from pykat.commands import *\n",
    "\n",
    "kat = finesse.kat()\n",
    "code = \"\"\"\n",
    "l laser 1.2M 0 node0\n",
    "s prespace 0.1 node0 node1\n",
    "m fixedmirror 0.997 0.003 0 node1 node2\n",
    "s cavityspace 0.2 node2 node3\n",
    "m piezomirror .997 .003 0 node3 node4\n",
    "pd photodiode node4\n",
    "\n",
    "xaxis piezomirror R lin .9 1 1_000\n",
    "\"\"\"\n",
    "\n",
    "kat.parse(code)\n",
    "out = kat.run()\n",
    "fig = out.plot(return_fig=True)\n",
    "fig.set_figheight(5)\n",
    "fig.set_figwidth(11)\n",
    "print(kat.laser.P)"
   ]
  },
  {
   "cell_type": "markdown",
   "id": "e69271c9-5f1c-441f-8537-0465ca119ad9",
   "metadata": {
    "tags": []
   },
   "source": [
    "## Laser power at phi==0\n",
    "\n",
    "* phi is fixed to zero\n",
    "* the power output of `laser` is swept from 0 to 3 Megawatts\n",
    "* higher power input leads to a linear increase of cavity power output\n",
    "* 1.000 steps"
   ]
  },
  {
   "cell_type": "code",
   "execution_count": null,
   "id": "b5851009-ceb3-4dbb-ac55-9e378b4f10ec",
   "metadata": {
    "tags": []
   },
   "outputs": [],
   "source": [
    "%matplotlib widget\n",
    "\n",
    "from pykat import finesse\n",
    "from pykat import finesse\n",
    "from pykat.commands import *\n",
    "\n",
    "kat = finesse.kat()\n",
    "code = \"\"\"\n",
    "l laser 1.2M 0 node0\n",
    "s prespace 0.1 node0 node1\n",
    "m fixedmirror 0.997 0.003 0 node1 node2\n",
    "s cavityspace 0.2 node2 node3\n",
    "m piezomirror .997 .003 0 node3 node4\n",
    "pd photodiode node4\n",
    "\n",
    "xaxis laser P lin 0 3M 1_000\n",
    "\"\"\"\n",
    "\n",
    "kat.parse(code)\n",
    "out = kat.run()\n",
    "fig = out.plot(return_fig=True)\n",
    "fig.set_figheight(5)\n",
    "fig.set_figwidth(11)\n",
    "print(kat.laser.P)"
   ]
  }
 ],
 "metadata": {
  "kernelspec": {
   "display_name": "Python 3 (ipykernel)",
   "language": "python",
   "name": "python3"
  },
  "language_info": {
   "codemirror_mode": {
    "name": "ipython",
    "version": 3
   },
   "file_extension": ".py",
   "mimetype": "text/x-python",
   "name": "python",
   "nbconvert_exporter": "python",
   "pygments_lexer": "ipython3",
   "version": "3.9.10"
  },
  "toc-autonumbering": false
 },
 "nbformat": 4,
 "nbformat_minor": 5
}
