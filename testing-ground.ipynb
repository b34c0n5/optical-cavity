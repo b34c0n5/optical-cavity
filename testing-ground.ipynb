{
 "cells": [
  {
   "cell_type": "markdown",
   "id": "22b35735-0964-4e85-b0a8-0721338b0b44",
   "metadata": {},
   "source": [
    "# testing ground"
   ]
  },
  {
   "cell_type": "code",
   "execution_count": null,
   "id": "17f00b78-3a47-495c-b35e-e788ff274397",
   "metadata": {
    "tags": []
   },
   "outputs": [],
   "source": [
    "%matplotlib inline\n",
    "\n",
    "from pykat import finesse\n",
    "from pykat import finesse\n",
    "from pykat.commands import *\n",
    "import matplotlib.pyplot as plt\n",
    "\n",
    "pykat.init_pykat_plotting(dpi=90)\n",
    "\n",
    "kat = finesse.kat()\n",
    "cavityspace = 1\n",
    "phi = 0\n",
    "Rc = 0.6\n",
    "Refl = 0.99\n",
    "Trans = 0.01\n",
    "xbeta = 0.0  # pitch/yaw for mirror\n",
    "\n",
    "code = f\"\"\"\n",
    "l laser 1 0 node0\n",
    "\n",
    "# TODO: research about tem -> changes output!!\n",
    "tem laser 0 1 0.1 0\n",
    "maxtem 2\n",
    "\n",
    "s prespace 0.1 node0 node1\n",
    "m fixedmirror {Refl} {Trans} 0 node1 node2\n",
    "s cavityspace {cavityspace} node2 node3\n",
    "m1 piezomirror {Refl} {Trans} {phi} node3 node4\n",
    "\n",
    "beam BP node4\n",
    "xaxis BP x lin -2 2 100\n",
    "x2axis BP y lin -2 2 100\n",
    "\n",
    "attr fixedmirror Rc {-Rc}\n",
    "attr piezomirror Rc {Rc}\n",
    "\"\"\"\n",
    "kat.parse(code)\n",
    "out = kat.run()\n",
    "\n",
    "# making the plot\n",
    "plt.figure(figsize=(6, 6))  # making sure the image is square\n",
    "plt.pcolormesh(out.x, out.y, out[\"BP\"], shading=\"auto\")\n",
    "plt.xlabel(\"x position [# spotsizes]\")\n",
    "plt.ylabel(\"y position [# spotsizes]\")"
   ]
  },
  {
   "cell_type": "code",
   "execution_count": null,
   "id": "00d7c30f-a330-4d97-9d8c-ee008a3d7f38",
   "metadata": {},
   "outputs": [],
   "source": []
  },
  {
   "cell_type": "code",
   "execution_count": null,
   "id": "ab7d9f5b-a722-4432-b4ba-307e88191d2c",
   "metadata": {},
   "outputs": [],
   "source": []
  }
 ],
 "metadata": {
  "kernelspec": {
   "display_name": "Python 3 (ipykernel)",
   "language": "python",
   "name": "python3"
  },
  "language_info": {
   "codemirror_mode": {
    "name": "ipython",
    "version": 3
   },
   "file_extension": ".py",
   "mimetype": "text/x-python",
   "name": "python",
   "nbconvert_exporter": "python",
   "pygments_lexer": "ipython3",
   "version": "3.10.4"
  }
 },
 "nbformat": 4,
 "nbformat_minor": 5
}
